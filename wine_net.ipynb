{
  "nbformat": 4,
  "nbformat_minor": 0,
  "metadata": {
    "colab": {
      "name": "wine_net.ipynb",
      "provenance": [],
      "authorship_tag": "ABX9TyMJoA2jhpxPvsxbL4ijY/Cr",
      "include_colab_link": true
    },
    "kernelspec": {
      "name": "python3",
      "display_name": "Python 3"
    },
    "language_info": {
      "name": "python"
    }
  },
  "cells": [
    {
      "cell_type": "markdown",
      "metadata": {
        "id": "view-in-github",
        "colab_type": "text"
      },
      "source": [
        "<a href=\"https://colab.research.google.com/github/TatyanaPythonista/wine_net/blob/main/wine_net.ipynb\" target=\"_parent\"><img src=\"https://colab.research.google.com/assets/colab-badge.svg\" alt=\"Open In Colab\"/></a>"
      ]
    },
    {
      "cell_type": "code",
      "metadata": {
        "id": "PBwPVT588bav"
      },
      "source": [
        "import torch\n",
        "import random\n",
        "import numpy as np\n",
        "\n",
        "random.seed(0)\n",
        "np.random.seed(0)\n",
        "torch.manual_seed(0)\n",
        "torch.cuda.manual_seed(0)\n",
        "torch.backends.cudnn.deterministic = True"
      ],
      "execution_count": 31,
      "outputs": []
    },
    {
      "cell_type": "code",
      "metadata": {
        "colab": {
          "base_uri": "https://localhost:8080/"
        },
        "id": "q-gyTFmLAA5v",
        "outputId": "15cdc445-a91b-4137-8e52-70a7000266f9"
      },
      "source": [
        "import sklearn.datasets\n",
        "wine = sklearn.datasets.load_wine()\n",
        "wine.data.shape"
      ],
      "execution_count": 32,
      "outputs": [
        {
          "output_type": "execute_result",
          "data": {
            "text/plain": [
              "(178, 13)"
            ]
          },
          "metadata": {},
          "execution_count": 32
        }
      ]
    },
    {
      "cell_type": "code",
      "metadata": {
        "id": "Wp-Xe8TkAVOC"
      },
      "source": [
        "from sklearn.model_selection import train_test_split\n",
        "\n",
        "x_train, x_test, y_train, y_test = train_test_split(\n",
        "    wine.data[:, :13],\n",
        "    wine.target,\n",
        "    test_size=0.3,\n",
        "    shuffle=True\n",
        ")\n",
        "\n",
        "x_train = torch.FloatTensor(x_train)  # FloatTensor - для дробных\n",
        "x_test = torch.FloatTensor(x_test)\n",
        "y_train = torch.LongTensor(y_train)  # LongTensor - для не дробных\n",
        "y_test = torch.LongTensor(y_test)"
      ],
      "execution_count": 33,
      "outputs": []
    },
    {
      "cell_type": "code",
      "metadata": {
        "id": "5YBXmMQXFIxE"
      },
      "source": [
        "class WineNet(torch.nn.Module):\n",
        "\n",
        "  def __init__(self, n_hidden_neurons):\n",
        "    super().__init__()\n",
        "\n",
        "    self.fc1 = torch.nn.Linear(13, n_hidden_neurons)\n",
        "    self.activ1 = torch.nn.Sigmoid()\n",
        "    self.fc2 = torch.nn.Linear(n_hidden_neurons, n_hidden_neurons)\n",
        "    #self.activ2 = torch.nn.Sigmoid()\n",
        "    #self.fc3 = torch.nn.Linear(n_hidden_neurons, 3)\n",
        "    self.sm = torch.nn.Softmax(dim=1)\n",
        "\n",
        "  def forward(self, x):\n",
        "    x = self.fc1(x)\n",
        "    x = self.activ1(x)\n",
        "    x = self.fc2(x)\n",
        "    #x = self.activ2(x)\n",
        "    #x = self.fc3(x)\n",
        "    return x\n",
        "\n",
        "  def inference(self, x):\n",
        "    x = self.forward(x)\n",
        "    x = self.sm(x)\n",
        "    return x\n",
        "\n",
        "wine_net = WineNet(14)\n"
      ],
      "execution_count": 51,
      "outputs": []
    },
    {
      "cell_type": "code",
      "metadata": {
        "id": "bW9TfHgYL_Xq"
      },
      "source": [
        "loss = torch.nn.CrossEntropyLoss()\n",
        "optimizer = torch.optim.Adam(wine_net.parameters(), lr=0.001)"
      ],
      "execution_count": 52,
      "outputs": []
    },
    {
      "cell_type": "code",
      "metadata": {
        "colab": {
          "base_uri": "https://localhost:8080/"
        },
        "id": "MVQeAw1iMjy7",
        "outputId": "f0269b51-5a71-44d9-f2ed-a9af303d62d2"
      },
      "source": [
        "np.random.permutation(5)"
      ],
      "execution_count": null,
      "outputs": [
        {
          "output_type": "execute_result",
          "data": {
            "text/plain": [
              "array([2, 0, 1, 4, 3])"
            ]
          },
          "metadata": {},
          "execution_count": 6
        }
      ]
    },
    {
      "cell_type": "code",
      "metadata": {
        "colab": {
          "base_uri": "https://localhost:8080/"
        },
        "id": "5KmNP2uUDaFN",
        "outputId": "e2128a31-f183-4ed7-adea-62e019d584fb"
      },
      "source": [
        "batch_size = 10\n",
        "\n",
        "for epoch in range(10000):\n",
        "  order = np.random.permutation(len(x_train))\n",
        "  for start_index in range(0, len(x_train), batch_size):\n",
        "    optimizer.zero_grad()\n",
        "\n",
        "    batch_indexes = order[start_index:start_index+batch_size]\n",
        "\n",
        "    x_batch = x_train[batch_indexes]\n",
        "    y_batch = y_train[batch_indexes]\n",
        "\n",
        "    preds = wine_net.forward(x_batch)\n",
        "\n",
        "    loss_val = loss(preds, y_batch)\n",
        "    loss_val.backward()\n",
        "\n",
        "    optimizer.step()\n",
        "\n",
        "  if epoch % 100 == 0:\n",
        "    test_preds = wine_net.forward(x_test)\n",
        "    test_preds = test_preds.argmax(dim=1)\n",
        "    print((test_preds == y_test).float().mean())\n"
      ],
      "execution_count": 53,
      "outputs": [
        {
          "output_type": "stream",
          "text": [
            "tensor(0.2222)\n",
            "tensor(0.8704)\n",
            "tensor(0.9074)\n",
            "tensor(0.9074)\n",
            "tensor(0.9259)\n",
            "tensor(0.9259)\n",
            "tensor(0.9444)\n",
            "tensor(0.9444)\n",
            "tensor(0.9444)\n",
            "tensor(0.9444)\n",
            "tensor(0.9444)\n",
            "tensor(0.9444)\n",
            "tensor(0.9444)\n",
            "tensor(0.9444)\n",
            "tensor(0.9444)\n",
            "tensor(0.9444)\n",
            "tensor(0.9630)\n",
            "tensor(0.9444)\n",
            "tensor(0.9444)\n",
            "tensor(0.9444)\n",
            "tensor(0.9444)\n",
            "tensor(0.9444)\n",
            "tensor(0.9444)\n",
            "tensor(0.9444)\n",
            "tensor(0.9444)\n",
            "tensor(0.9444)\n",
            "tensor(0.9444)\n",
            "tensor(0.9444)\n",
            "tensor(0.9444)\n",
            "tensor(0.9444)\n",
            "tensor(0.9444)\n",
            "tensor(0.9444)\n",
            "tensor(0.9444)\n",
            "tensor(0.9444)\n",
            "tensor(0.9444)\n",
            "tensor(0.9444)\n",
            "tensor(0.9444)\n",
            "tensor(0.9444)\n",
            "tensor(0.9444)\n",
            "tensor(0.9444)\n",
            "tensor(0.9444)\n",
            "tensor(0.9444)\n",
            "tensor(0.9444)\n",
            "tensor(0.9444)\n",
            "tensor(0.9444)\n",
            "tensor(0.9444)\n",
            "tensor(0.9444)\n",
            "tensor(0.9444)\n",
            "tensor(0.9444)\n",
            "tensor(0.9444)\n",
            "tensor(0.9444)\n",
            "tensor(0.9444)\n",
            "tensor(0.9444)\n",
            "tensor(0.9444)\n",
            "tensor(0.9444)\n",
            "tensor(0.9444)\n",
            "tensor(0.9444)\n",
            "tensor(0.9444)\n",
            "tensor(0.9444)\n",
            "tensor(0.9444)\n",
            "tensor(0.9444)\n",
            "tensor(0.9444)\n",
            "tensor(0.9444)\n",
            "tensor(0.9444)\n",
            "tensor(0.9444)\n",
            "tensor(0.9444)\n",
            "tensor(0.9444)\n",
            "tensor(0.9444)\n",
            "tensor(0.9444)\n",
            "tensor(0.9444)\n",
            "tensor(0.9444)\n",
            "tensor(0.9444)\n",
            "tensor(0.9444)\n",
            "tensor(0.9444)\n",
            "tensor(0.9444)\n",
            "tensor(0.9444)\n",
            "tensor(0.9444)\n",
            "tensor(0.9444)\n",
            "tensor(0.9444)\n",
            "tensor(0.9074)\n",
            "tensor(0.8889)\n",
            "tensor(0.8889)\n",
            "tensor(0.8889)\n",
            "tensor(0.8889)\n",
            "tensor(0.8889)\n",
            "tensor(0.8889)\n",
            "tensor(0.8889)\n",
            "tensor(0.8889)\n",
            "tensor(0.8889)\n",
            "tensor(0.8889)\n",
            "tensor(0.8889)\n",
            "tensor(0.8889)\n",
            "tensor(0.8889)\n",
            "tensor(0.8889)\n",
            "tensor(0.8889)\n",
            "tensor(0.8889)\n",
            "tensor(0.8889)\n",
            "tensor(0.8889)\n",
            "tensor(0.8889)\n",
            "tensor(0.8889)\n"
          ],
          "name": "stdout"
        }
      ]
    },
    {
      "cell_type": "code",
      "metadata": {
        "colab": {
          "base_uri": "https://localhost:8080/",
          "height": 279
        },
        "id": "gMJUSTOMQ12C",
        "outputId": "5cf19bc8-a7b3-4b2c-90d9-39badd4a3c4e"
      },
      "source": [
        "import matplotlib.pyplot as plt\n",
        "%matplotlib inline\n",
        "\n",
        "plt.rcParams['figure.figsize'] == (10, 8)\n",
        "\n",
        "n_classes = 3\n",
        "plot_colors = ['g', 'orange', 'black']\n",
        "plot_step = 0.02\n",
        "\n",
        "x_min, x_max = x_train[:, 0].min() - 1, x_train[:, 0].max() + 1\n",
        "y_min, y_max = x_train[:, 1].min() - 1, x_train[:, 1].max() + 1\n",
        "\n",
        "xx, yy = torch.meshgrid(torch.arange(x_min, x_max, plot_step), \n",
        "                        torch.arange(y_min, y_max, plot_step))\n",
        "\n",
        "preds = wine_net.inference(\n",
        "    torch.cat([xx.reshape(-1, 1), yy.reshape(-1, 1)], dim=1)\n",
        ")\n",
        "\n",
        "preds_class = preds.data.numpy().argmax(axis=1)\n",
        "preds_class = preds_class.reshape(xx.shape)\n",
        "plt.contourf(xx, yy, preds_class, cmap='Accent')\n",
        "\n",
        "for i, color in zip(range(n_classes), plot_colors):\n",
        "  indexes = np.where(y_train == i)\n",
        "  plt.scatter(x_train[indexes, 0],\n",
        "              x_train[indexes, 1],\n",
        "              c=color,\n",
        "              label=wine.target_names[i],\n",
        "              cmap='Accent')\n",
        "  \n",
        "  plt.xlabel(wine.feature_names[0])\n",
        "  plt.ylabel(wine.feature_names[1])\n",
        "  plt.legend()"
      ],
      "execution_count": null,
      "outputs": [
        {
          "output_type": "display_data",
          "data": {
            "image/png": "[encoded data removed]",
            "text/plain": [
              "<Figure size 432x288 with 1 Axes>"
            ]
          },
          "metadata": {
            "needs_background": "light"
          }
        }
      ]
    }
  ]
}